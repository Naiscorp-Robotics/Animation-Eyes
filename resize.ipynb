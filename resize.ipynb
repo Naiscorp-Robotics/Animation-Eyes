{
 "cells": [
  {
   "cell_type": "code",
   "execution_count": 1,
   "id": "cd7e7175",
   "metadata": {},
   "outputs": [
    {
     "name": "stdout",
     "output_type": "stream",
     "text": [
      "Đã resize ảnh về kích thước 60x60 và lưu tại: output_image_60x60.jpg\n"
     ]
    }
   ],
   "source": [
    "from PIL import Image\n",
    "\n",
    "# Đường dẫn ảnh gốc\n",
    "input_path = r\"C:\\Users\\tutra\\Downloads\\Thiết kế chưa có tên.jpg\"\n",
    "# Đường dẫn ảnh sau khi resize\n",
    "output_path = 'output_image_60x60.jpg'\n",
    "\n",
    "# Mở ảnh gốc\n",
    "img = Image.open(input_path)\n",
    "\n",
    "# Resize ảnh về 60x60\n",
    "img_resized = img.resize((60, 60))\n",
    "\n",
    "# Lưu ảnh sau khi resize\n",
    "img_resized.save(output_path)\n",
    "\n",
    "print(\"Đã resize ảnh về kích thước 60x60 và lưu tại:\", output_path)\n"
   ]
  }
 ],
 "metadata": {
  "kernelspec": {
   "display_name": "STEP",
   "language": "python",
   "name": "python3"
  },
  "language_info": {
   "codemirror_mode": {
    "name": "ipython",
    "version": 3
   },
   "file_extension": ".py",
   "mimetype": "text/x-python",
   "name": "python",
   "nbconvert_exporter": "python",
   "pygments_lexer": "ipython3",
   "version": "3.10.18"
  }
 },
 "nbformat": 4,
 "nbformat_minor": 5
}
